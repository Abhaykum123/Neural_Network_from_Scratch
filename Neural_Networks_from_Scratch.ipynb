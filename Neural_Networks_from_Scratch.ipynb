{
 "cells": [
  {
   "cell_type": "code",
   "execution_count": 1,
   "id": "c09c42f7-68f8-4cfa-89e3-1378141b61b1",
   "metadata": {},
   "outputs": [],
   "source": [
    "import numpy as np\n",
    "import pandas as pd\n",
    "import plotly.express as px"
   ]
  },
  {
   "cell_type": "code",
   "execution_count": 2,
   "id": "f24c626e-b602-4c69-bc75-b23f12c656dd",
   "metadata": {},
   "outputs": [],
   "source": [
    "df = pd.read_csv('breast_cancer.csv')"
   ]
  },
  {
   "cell_type": "code",
   "execution_count": 3,
   "id": "74096d1c-8b48-4a04-9a60-8b610d9bde93",
   "metadata": {},
   "outputs": [],
   "source": [
    "from sklearn.preprocessing import LabelEncoder\n",
    "lr = LabelEncoder()\n",
    "df['diagnosis'] = lr.fit_transform(df['diagnosis'])"
   ]
  },
  {
   "cell_type": "code",
   "execution_count": 4,
   "id": "133c4c0f-3959-4748-a319-c475ecb24070",
   "metadata": {},
   "outputs": [],
   "source": [
    "corr = df.corr()"
   ]
  },
  {
   "cell_type": "code",
   "execution_count": 5,
   "id": "f334a23c-ff5b-4c14-99d2-06a2162a16b2",
   "metadata": {},
   "outputs": [
    {
     "name": "stdout",
     "output_type": "stream",
     "text": [
      "['radius_mean', 'texture_mean', 'perimeter_mean', 'area_mean', 'smoothness_mean', 'compactness_mean', 'concavity_mean', 'concave points_mean', 'symmetry_mean', 'radius_se', 'perimeter_se', 'area_se', 'compactness_se', 'concavity_se', 'concave points_se', 'radius_worst', 'texture_worst', 'perimeter_worst', 'area_worst', 'smoothness_worst', 'compactness_worst', 'concavity_worst', 'concave points_worst', 'symmetry_worst', 'fractal_dimension_worst']\n"
     ]
    }
   ],
   "source": [
    "cor_target = abs(corr[\"diagnosis\"])\n",
    "columns = cor_target[cor_target > 0.2]\n",
    "names = list(columns.index)\n",
    "\n",
    "if 'diagnosis' in names:\n",
    "    names.remove('diagnosis')\n",
    "print(names)\n"
   ]
  },
  {
   "cell_type": "code",
   "execution_count": 6,
   "id": "f4297f48-37c5-4fc9-8ee8-f80ae57354c1",
   "metadata": {},
   "outputs": [],
   "source": [
    "X = df[names].values\n",
    "y = df['diagnosis'].values"
   ]
  },
  {
   "cell_type": "code",
   "execution_count": 7,
   "id": "d9039a31-ffa5-479a-a6c4-ac6365cfcebc",
   "metadata": {},
   "outputs": [],
   "source": [
    "def scale(X):\n",
    "    mean = np.mean(X, axis=0)\n",
    "    std = np.std(X, axis=0)\n",
    "    X = (X - mean) / std\n",
    "    return X"
   ]
  },
  {
   "cell_type": "code",
   "execution_count": 8,
   "id": "66d05d71-4028-4ee4-aed8-9d42042b26d6",
   "metadata": {},
   "outputs": [],
   "source": [
    "from sklearn.model_selection import train_test_split"
   ]
  },
  {
   "cell_type": "code",
   "execution_count": 9,
   "id": "18b8b5c5-b35f-45b5-b370-bd71e4cb6f71",
   "metadata": {},
   "outputs": [],
   "source": [
    "X = scale(X)\n",
    "X_train, X_test, y_train, y_test = train_test_split(X, y, test_size = 0.2, random_state=42)"
   ]
  },
  {
   "cell_type": "markdown",
   "id": "43bc80f6-937e-458c-9ca7-d9ad0cd630bf",
   "metadata": {},
   "source": [
    "#### ReLU Function\n",
    "**\\begin{equation}\n",
    "f(Z) = max(0, Z)\n",
    "\\end{equation}**"
   ]
  },
  {
   "cell_type": "code",
   "execution_count": 10,
   "id": "e658d90b-8b9a-4ad4-8efe-3cf4cba1fad2",
   "metadata": {},
   "outputs": [],
   "source": [
    "def relu(Z):\n",
    "    A = np.maximum(0,Z)\n",
    "    cache = Z \n",
    "    return A, cache"
   ]
  },
  {
   "cell_type": "markdown",
   "id": "28506b02-3277-4788-8ad0-7e160c2cb96f",
   "metadata": {},
   "source": [
    "#### Derivative of ReLU function\n",
    "f'(x) = {0, if z <=0 and 1 if z > 0"
   ]
  },
  {
   "cell_type": "code",
   "execution_count": 11,
   "id": "08152a2c-4230-4a1f-a1ec-be1875a88cdb",
   "metadata": {},
   "outputs": [],
   "source": [
    "def relu_backward(dA, cache):\n",
    "    Z = cache\n",
    "    dZ = np.array(dA, copy=True) \n",
    "    dZ[Z <= 0] = 0\n",
    "    \n",
    "    return dZ"
   ]
  },
  {
   "cell_type": "markdown",
   "id": "ce514d1e-f187-4a56-a705-e279f28c177e",
   "metadata": {},
   "source": [
    "#### Sigmoid Function\n",
    "**\\begin{equation}\n",
    "f(Z) = \\frac{1}{1+e^{-Z}}\n",
    "\\end{equation}**"
   ]
  },
  {
   "cell_type": "code",
   "execution_count": 12,
   "id": "3a5305b2-6e7c-4de3-ad8b-c6152ca31552",
   "metadata": {},
   "outputs": [],
   "source": [
    "def sigmoid(Z):\n",
    "    A = 1/(1+np.exp(-Z))\n",
    "    cache = Z\n",
    "    \n",
    "    return A, cache"
   ]
  },
  {
   "cell_type": "markdown",
   "id": "d17a5320-3ce8-489c-aad4-8be0664ca957",
   "metadata": {},
   "source": [
    "#### Derivative of Sigmoid function\n",
    "\\begin{equation}\n",
    "f'(Z) = f(Z)(1-f(Z))\n",
    "\\end{equation}"
   ]
  },
  {
   "cell_type": "code",
   "execution_count": 13,
   "id": "1ecdf20c-8cae-4f0e-a556-8b8b2eb74ada",
   "metadata": {},
   "outputs": [],
   "source": [
    "def sigmoid_backward(dA, cache):\n",
    "    Z = cache\n",
    "    s = 1/(1+np.exp(-Z))\n",
    "    dZ = dA * s * (1-s)\n",
    "    \n",
    "    return dZ"
   ]
  },
  {
   "cell_type": "code",
   "execution_count": 14,
   "id": "ef327802-d0ab-4ca8-aa9c-ceca23c13690",
   "metadata": {},
   "outputs": [],
   "source": [
    "_,shape = X.shape"
   ]
  },
  {
   "cell_type": "code",
   "execution_count": 15,
   "id": "e2edf8e8-a4a2-4371-bd4f-beb03ade6a61",
   "metadata": {},
   "outputs": [
    {
     "name": "stdout",
     "output_type": "stream",
     "text": [
      "25\n"
     ]
    }
   ],
   "source": [
    "print(shape)"
   ]
  },
  {
   "cell_type": "code",
   "execution_count": null,
   "id": "7d50489a-fd93-48af-a7e0-deb348416abb",
   "metadata": {},
   "outputs": [],
   "source": []
  },
  {
   "cell_type": "markdown",
   "id": "acd3874b-05e7-48de-aa8f-1699596992aa",
   "metadata": {},
   "source": [
    "# How the Neural Network Algorithm Works\n",
    "\n",
    "---\n",
    "\n",
    "## **1. Initialize Parameters**\n",
    "\n",
    "For each layer \\( l \\) in the neural network:\n",
    "\n",
    "- Initialize weights:\n",
    "\n",
    "**\\begin{equation}\n",
    "W^{[l]} \\in \\mathbb{R}^{n^{[l]} \\times n^{[l-1]}}\n",
    "\\end{equation}**\n",
    "\n",
    "- Initialize biases:\n",
    "\n",
    "**\\begin{equation}\n",
    "b^{[l]} \\in \\mathbb{R}^{n^{[l]} \\times 1}\n",
    "\\end{equation}**\n",
    "\n",
    "Where:    \n",
    "- \\( n^{[l]} \\): number of neurons in layer \\( l \\)  \n",
    "- \\( n^{[l-1]} \\): number of neurons in the previous layer\n",
    "\n",
    "\n",
    "\n",
    "---\n",
    "\n",
    "## **2. Forward Propagation**\n",
    "\n",
    "We calculate the output of each layer from the input layer to the final layer.\n",
    "\n",
    "For each layer \\( l \\):\n",
    "\n",
    "**\\begin{equation}\n",
    "Z^{[l]} = W^{[l]} A^{[l-1]} + b^{[l]}\n",
    "\\end{equation}**\n",
    "\n",
    "**\\begin{equation}\n",
    "A^{[l]} = g(Z^{[l]})\n",
    "\\end{equation}**\n",
    "\n",
    "Where:\n",
    "- \\( A^{[0]} = X \\) is the input data  \n",
    "- \\( g(\\cdot) \\) is the activation function (e.g., ReLU, sigmoid)\n",
    "\n",
    "---\n",
    "\n",
    "## **3. Compute the Cost**\n",
    "\n",
    "To measure how well the model is performing, we use a cost function.  \n",
    "For binary classification, the **binary cross-entropy loss** is:\n",
    "\n",
    "**\\begin{equation}\n",
    "J = -\\frac{1}{m} \\sum_{i=1}^{m} \\left[ y^{(i)} \\log(a^{[L](i)}) + (1 - y^{(i)}) \\log(1 - a^{[L](i)}) \\right]\n",
    "\\end{equation}**\n",
    "\n",
    "Where:\n",
    "- \\( a^{[L](i)} \\) is the predicted output  \n",
    "- \\( y^{(i)} \\) is the true label  \n",
    "- \\( m \\) is the number of training examples\n",
    "\n",
    "---\n",
    "\n",
    "## **4. Backpropagation**\n",
    "\n",
    "We use the chain rule to compute the gradient of the loss with respect to each parameter.\n",
    "\n",
    "For each layer \\( l \\):\n",
    "\n",
    "**\\begin{equation}\n",
    "dZ^{[l]} = dA^{[l]} \\circ g'^{[l]}(Z^{[l]})\n",
    "\\end{equation}**\n",
    "\n",
    "**\\begin{equation}\n",
    "dW^{[l]} = \\frac{1}{m} dZ^{[l]} (A^{[l-1]})^T\n",
    "\\end{equation}**\n",
    "\n",
    "**\\begin{equation}\n",
    "db^{[l]} = \\frac{1}{m} \\sum dZ^{[l]}\n",
    "\\end{equation}**\n",
    "\n",
    "**\\begin{equation}\n",
    "dA^{[l-1]} = (W^{[l]})^T dZ^{[l]}\n",
    "\\end{equation}**\n",
    "\n",
    "---\n",
    "\n",
    "## **5. Update Parameters**\n",
    "\n",
    "Using **gradient descent**, we update the weights and biases:\n",
    "\n",
    "**\\begin{equation}\n",
    "W^{[l]} = W^{[l]} - \\alpha \\text{ } dW^{[l]}\n",
    "\\end{equation}**\n",
    "\n",
    "**\\begin{equation}\n",
    "b^{[l]} = b^{[l]} - \\alpha \\text{ } db^{[l]}\n",
    "\\end{equation}**\n",
    "\n",
    "Where:\n",
    "- \\( \\alpha \\): learning rate\n",
    "\n",
    "---\n",
    "\n",
    "## ✅ Summary\n",
    "\n",
    "1. **Initialize** weights and biases  \n",
    "2. **Forward Propagate** the input  \n",
    "3. **Compute** the cost  \n",
    "4. **Backpropagate** to compute gradients  \n",
    "5. **Update** the parameters using gradient descent\n"
   ]
  },
  {
   "cell_type": "code",
   "execution_count": 16,
   "id": "2746bad1-a724-4773-92fc-96365e461c96",
   "metadata": {},
   "outputs": [],
   "source": [
    "class NeuralNetwork:\n",
    "    def __init__(self, layer_dimensions=[shape,16,16,1],learning_rate=0.00001,activation='sigmoid'):\n",
    "        self.layer_dimensions = layer_dimensions\n",
    "        self.learning_rate = learning_rate\n",
    "        self.activation = activation\n",
    "        \n",
    "    def initialize_parameters(self):\n",
    "        np.random.seed(3)\n",
    "        self.n_layers =  len(self.layer_dimensions)\n",
    "        for l in range(1, self.n_layers):\n",
    "            vars(self)[f'W{l}'] = np.random.randn(self.layer_dimensions[l], self.layer_dimensions[l-1]) * 0.01\n",
    "            vars(self)[f'b{l}'] = np.zeros((self.layer_dimensions[l], 1))\n",
    " \n",
    "    def _linear_forward(self, A, W, b):\n",
    "        Z = np.dot(W,A) + b\n",
    "        cache = (A, W, b)\n",
    "        return Z, cache\n",
    "    \n",
    "    def _forward_propagation(self,A_prev ,W ,b , activation):\n",
    "\n",
    "        if activation == \"sigmoid\":\n",
    "            Z, linear_cache = self._linear_forward(A_prev, W, b)\n",
    "            A, activation_cache = sigmoid(Z) \n",
    "        elif activation == \"relu\":\n",
    "            Z, linear_cache = self._linear_forward(A_prev, W, b) \n",
    "            A, activation_cache = relu(Z) \n",
    "\n",
    "        cache = (linear_cache, activation_cache)\n",
    "        return A, cache\n",
    "    \n",
    "    \n",
    "    def forward_propagation(self, X):\n",
    "        caches = []\n",
    "\n",
    "        A = X\n",
    "        L =  self.n_layers -1\n",
    "        for l in range(1, L):\n",
    "            A_prev = A \n",
    "            A, cache = self._forward_propagation(A_prev, vars(self)['W' + str(l)], vars(self)['b' + str(l)], \"relu\")\n",
    "            caches.append(cache)\n",
    "\n",
    "        predictions, cache = self._forward_propagation(A, vars(self)['W' + str(L)], vars(self)['b' + str(L)], \"sigmoid\")\n",
    "        caches.append(cache)\n",
    "\n",
    "        return predictions, caches\n",
    "    \n",
    "    def compute_cost(self, predictions, y):\n",
    "        m = y.shape[0]\n",
    "        cost = (-1/m) * (np.dot(y, np.log(predictions+1e-9).T) + np.dot((1-y), np.log(1-predictions+1e-9).T))\n",
    "        cost = np.squeeze(cost)\n",
    "        return cost   \n",
    "        \n",
    "    def _linear_backward(self, dZ, cache):\n",
    "        A_prev, W, b = cache\n",
    "        m = A_prev.shape[1]\n",
    "        dW = (1/m) * np.dot(dZ, A_prev.T)\n",
    "        db = (1/m) * np.sum(dZ, axis=1, keepdims=True)\n",
    "        dA_prev = np.dot(W.T,dZ)\n",
    "        return dA_prev, dW, db\n",
    "    \n",
    "    def _back_propagation(self, dA, cache, activation):\n",
    "        linear_cache, activation_cache = cache\n",
    "\n",
    "        if activation == \"relu\":\n",
    "            dZ = relu_backward(dA, activation_cache)\n",
    "        elif activation == \"sigmoid\":\n",
    "            dZ = sigmoid_backward(dA, activation_cache)\n",
    "            \n",
    "        dA_prev, dW, db = self._linear_backward(dZ, linear_cache)\n",
    "        return dA_prev, dW, db\n",
    "\n",
    "    def back_propagation(self, predictions, Y, caches):\n",
    "        L = self.n_layers - 1\n",
    "        m = predictions.shape[1]\n",
    "        Y = Y.reshape(predictions.shape)\n",
    "        \n",
    "        dAL = - (np.divide(Y, predictions + 1e-9) - np.divide(1 - Y, 1 - predictions + 1e-9))\n",
    "\n",
    "        # Output layer (sigmoid)\n",
    "        current_cache = caches[L - 1]\n",
    "        vars(self)[f'dA{L - 1}'], vars(self)[f'dW{L}'], vars(self)[f'db{L}'] = self._back_propagation(dAL, current_cache, \"sigmoid\")\n",
    "\n",
    "        # Hidden layers (ReLU)\n",
    "        for l in reversed(range(L - 1)):\n",
    "            current_cache = caches[l]\n",
    "            dA_prev, dW, db = self._back_propagation(vars(self)[f'dA{l + 1}'], current_cache, \"relu\")\n",
    "            vars(self)[f'dA{l}'] = dA_prev\n",
    "            vars(self)[f'dW{l + 1}'] = dW\n",
    "            vars(self)[f'db{l + 1}'] = db\n",
    "\n",
    "\n",
    "    def update_parameters(self):\n",
    "            L = self.n_layers - 1\n",
    "            for l in range(L):\n",
    "                vars(self)[f'W{l+1}'] = vars(self)[f'W{l+1}'] - self.learning_rate * vars(self)[f'dW{l+1}']\n",
    "                vars(self)[f'b{l+1}']  = vars(self)[f'b{l+1}'] - self.learning_rate * vars(self)[f'db{l+1}']\n",
    "                \n",
    "\n",
    "    def fit(self,X, Y, epochs=2000, print_cost=True):\n",
    "            X = X.T\n",
    "            np.random.seed(1)\n",
    "            costs = [] \n",
    "            m = X.shape[1]                           \n",
    "            self.initialize_parameters()\n",
    "            for i in range(0, epochs):\n",
    "                predictions, caches = self.forward_propagation(X)\n",
    "                cost = self.compute_cost(predictions, Y)\n",
    "                self.back_propagation(predictions, Y, caches)\n",
    "\n",
    "                self.update_parameters()\n",
    "\n",
    "                if print_cost and i % 5000 == 0:\n",
    "                    print(\"Cost after iteration {}: {}\".format(i, np.squeeze(cost)))\n",
    "                if print_cost and i % 5000 == 0:\n",
    "                    costs.append(cost)\n",
    "            if print_cost:         \n",
    "                fig = px.line(y=np.squeeze(costs),title='Cost',template=\"plotly_dark\")\n",
    "                fig.update_layout(\n",
    "                    title_font_color=\"#00F1FF\", \n",
    "                    xaxis=dict(color=\"#00F1FF\"), \n",
    "                    yaxis=dict(color=\"#00F1FF\") \n",
    "                )\n",
    "                fig.show()\n",
    "\n",
    "\n",
    "    def predict(self,X,y):\n",
    "        X = X.T\n",
    "        predictions, _ = self.forward_propagation(X)\n",
    "        predictions = (predictions > 0.5)\n",
    "        predictions = np.squeeze(predictions.astype(int))\n",
    "        return np.sum((predictions == y)/X.shape[1]), predictions.T"
   ]
  },
  {
   "cell_type": "code",
   "execution_count": 17,
   "id": "eed8fa9e-3e0e-4c53-b4a1-a984e5a446f6",
   "metadata": {},
   "outputs": [
    {
     "name": "stdout",
     "output_type": "stream",
     "text": [
      "Cost after iteration 0: 0.6931645938036044\n",
      "Cost after iteration 5000: 0.6858348042007028\n",
      "Cost after iteration 10000: 0.680130452262741\n",
      "Cost after iteration 15000: 0.6756865532399361\n",
      "Cost after iteration 20000: 0.6722206490091551\n",
      "Cost after iteration 25000: 0.6695147148419733\n"
     ]
    },
    {
     "data": {
      "application/vnd.plotly.v1+json": {
       "config": {
        "plotlyServerURL": "https://plot.ly"
       },
       "data": [
        {
         "hovertemplate": "x=%{x}<br>y=%{y}<extra></extra>",
         "legendgroup": "",
         "line": {
          "color": "#636efa",
          "dash": "solid"
         },
         "marker": {
          "symbol": "circle"
         },
         "mode": "lines",
         "name": "",
         "orientation": "v",
         "showlegend": false,
         "type": "scatter",
         "x": {
          "bdata": "AAECAwQF",
          "dtype": "i1"
         },
         "xaxis": "x",
         "y": {
          "bdata": "HDakg2cu5j/EBNDUW/LlP99tL/Cgw+U/TmYQaDmf5T9AFubg1ILlPz78jR+qbOU/",
          "dtype": "f8"
         },
         "yaxis": "y"
        }
       ],
       "layout": {
        "legend": {
         "tracegroupgap": 0
        },
        "template": {
         "data": {
          "bar": [
           {
            "error_x": {
             "color": "#f2f5fa"
            },
            "error_y": {
             "color": "#f2f5fa"
            },
            "marker": {
             "line": {
              "color": "rgb(17,17,17)",
              "width": 0.5
             },
             "pattern": {
              "fillmode": "overlay",
              "size": 10,
              "solidity": 0.2
             }
            },
            "type": "bar"
           }
          ],
          "barpolar": [
           {
            "marker": {
             "line": {
              "color": "rgb(17,17,17)",
              "width": 0.5
             },
             "pattern": {
              "fillmode": "overlay",
              "size": 10,
              "solidity": 0.2
             }
            },
            "type": "barpolar"
           }
          ],
          "carpet": [
           {
            "aaxis": {
             "endlinecolor": "#A2B1C6",
             "gridcolor": "#506784",
             "linecolor": "#506784",
             "minorgridcolor": "#506784",
             "startlinecolor": "#A2B1C6"
            },
            "baxis": {
             "endlinecolor": "#A2B1C6",
             "gridcolor": "#506784",
             "linecolor": "#506784",
             "minorgridcolor": "#506784",
             "startlinecolor": "#A2B1C6"
            },
            "type": "carpet"
           }
          ],
          "choropleth": [
           {
            "colorbar": {
             "outlinewidth": 0,
             "ticks": ""
            },
            "type": "choropleth"
           }
          ],
          "contour": [
           {
            "colorbar": {
             "outlinewidth": 0,
             "ticks": ""
            },
            "colorscale": [
             [
              0,
              "#0d0887"
             ],
             [
              0.1111111111111111,
              "#46039f"
             ],
             [
              0.2222222222222222,
              "#7201a8"
             ],
             [
              0.3333333333333333,
              "#9c179e"
             ],
             [
              0.4444444444444444,
              "#bd3786"
             ],
             [
              0.5555555555555556,
              "#d8576b"
             ],
             [
              0.6666666666666666,
              "#ed7953"
             ],
             [
              0.7777777777777778,
              "#fb9f3a"
             ],
             [
              0.8888888888888888,
              "#fdca26"
             ],
             [
              1,
              "#f0f921"
             ]
            ],
            "type": "contour"
           }
          ],
          "contourcarpet": [
           {
            "colorbar": {
             "outlinewidth": 0,
             "ticks": ""
            },
            "type": "contourcarpet"
           }
          ],
          "heatmap": [
           {
            "colorbar": {
             "outlinewidth": 0,
             "ticks": ""
            },
            "colorscale": [
             [
              0,
              "#0d0887"
             ],
             [
              0.1111111111111111,
              "#46039f"
             ],
             [
              0.2222222222222222,
              "#7201a8"
             ],
             [
              0.3333333333333333,
              "#9c179e"
             ],
             [
              0.4444444444444444,
              "#bd3786"
             ],
             [
              0.5555555555555556,
              "#d8576b"
             ],
             [
              0.6666666666666666,
              "#ed7953"
             ],
             [
              0.7777777777777778,
              "#fb9f3a"
             ],
             [
              0.8888888888888888,
              "#fdca26"
             ],
             [
              1,
              "#f0f921"
             ]
            ],
            "type": "heatmap"
           }
          ],
          "histogram": [
           {
            "marker": {
             "pattern": {
              "fillmode": "overlay",
              "size": 10,
              "solidity": 0.2
             }
            },
            "type": "histogram"
           }
          ],
          "histogram2d": [
           {
            "colorbar": {
             "outlinewidth": 0,
             "ticks": ""
            },
            "colorscale": [
             [
              0,
              "#0d0887"
             ],
             [
              0.1111111111111111,
              "#46039f"
             ],
             [
              0.2222222222222222,
              "#7201a8"
             ],
             [
              0.3333333333333333,
              "#9c179e"
             ],
             [
              0.4444444444444444,
              "#bd3786"
             ],
             [
              0.5555555555555556,
              "#d8576b"
             ],
             [
              0.6666666666666666,
              "#ed7953"
             ],
             [
              0.7777777777777778,
              "#fb9f3a"
             ],
             [
              0.8888888888888888,
              "#fdca26"
             ],
             [
              1,
              "#f0f921"
             ]
            ],
            "type": "histogram2d"
           }
          ],
          "histogram2dcontour": [
           {
            "colorbar": {
             "outlinewidth": 0,
             "ticks": ""
            },
            "colorscale": [
             [
              0,
              "#0d0887"
             ],
             [
              0.1111111111111111,
              "#46039f"
             ],
             [
              0.2222222222222222,
              "#7201a8"
             ],
             [
              0.3333333333333333,
              "#9c179e"
             ],
             [
              0.4444444444444444,
              "#bd3786"
             ],
             [
              0.5555555555555556,
              "#d8576b"
             ],
             [
              0.6666666666666666,
              "#ed7953"
             ],
             [
              0.7777777777777778,
              "#fb9f3a"
             ],
             [
              0.8888888888888888,
              "#fdca26"
             ],
             [
              1,
              "#f0f921"
             ]
            ],
            "type": "histogram2dcontour"
           }
          ],
          "mesh3d": [
           {
            "colorbar": {
             "outlinewidth": 0,
             "ticks": ""
            },
            "type": "mesh3d"
           }
          ],
          "parcoords": [
           {
            "line": {
             "colorbar": {
              "outlinewidth": 0,
              "ticks": ""
             }
            },
            "type": "parcoords"
           }
          ],
          "pie": [
           {
            "automargin": true,
            "type": "pie"
           }
          ],
          "scatter": [
           {
            "marker": {
             "line": {
              "color": "#283442"
             }
            },
            "type": "scatter"
           }
          ],
          "scatter3d": [
           {
            "line": {
             "colorbar": {
              "outlinewidth": 0,
              "ticks": ""
             }
            },
            "marker": {
             "colorbar": {
              "outlinewidth": 0,
              "ticks": ""
             }
            },
            "type": "scatter3d"
           }
          ],
          "scattercarpet": [
           {
            "marker": {
             "colorbar": {
              "outlinewidth": 0,
              "ticks": ""
             }
            },
            "type": "scattercarpet"
           }
          ],
          "scattergeo": [
           {
            "marker": {
             "colorbar": {
              "outlinewidth": 0,
              "ticks": ""
             }
            },
            "type": "scattergeo"
           }
          ],
          "scattergl": [
           {
            "marker": {
             "line": {
              "color": "#283442"
             }
            },
            "type": "scattergl"
           }
          ],
          "scattermap": [
           {
            "marker": {
             "colorbar": {
              "outlinewidth": 0,
              "ticks": ""
             }
            },
            "type": "scattermap"
           }
          ],
          "scattermapbox": [
           {
            "marker": {
             "colorbar": {
              "outlinewidth": 0,
              "ticks": ""
             }
            },
            "type": "scattermapbox"
           }
          ],
          "scatterpolar": [
           {
            "marker": {
             "colorbar": {
              "outlinewidth": 0,
              "ticks": ""
             }
            },
            "type": "scatterpolar"
           }
          ],
          "scatterpolargl": [
           {
            "marker": {
             "colorbar": {
              "outlinewidth": 0,
              "ticks": ""
             }
            },
            "type": "scatterpolargl"
           }
          ],
          "scatterternary": [
           {
            "marker": {
             "colorbar": {
              "outlinewidth": 0,
              "ticks": ""
             }
            },
            "type": "scatterternary"
           }
          ],
          "surface": [
           {
            "colorbar": {
             "outlinewidth": 0,
             "ticks": ""
            },
            "colorscale": [
             [
              0,
              "#0d0887"
             ],
             [
              0.1111111111111111,
              "#46039f"
             ],
             [
              0.2222222222222222,
              "#7201a8"
             ],
             [
              0.3333333333333333,
              "#9c179e"
             ],
             [
              0.4444444444444444,
              "#bd3786"
             ],
             [
              0.5555555555555556,
              "#d8576b"
             ],
             [
              0.6666666666666666,
              "#ed7953"
             ],
             [
              0.7777777777777778,
              "#fb9f3a"
             ],
             [
              0.8888888888888888,
              "#fdca26"
             ],
             [
              1,
              "#f0f921"
             ]
            ],
            "type": "surface"
           }
          ],
          "table": [
           {
            "cells": {
             "fill": {
              "color": "#506784"
             },
             "line": {
              "color": "rgb(17,17,17)"
             }
            },
            "header": {
             "fill": {
              "color": "#2a3f5f"
             },
             "line": {
              "color": "rgb(17,17,17)"
             }
            },
            "type": "table"
           }
          ]
         },
         "layout": {
          "annotationdefaults": {
           "arrowcolor": "#f2f5fa",
           "arrowhead": 0,
           "arrowwidth": 1
          },
          "autotypenumbers": "strict",
          "coloraxis": {
           "colorbar": {
            "outlinewidth": 0,
            "ticks": ""
           }
          },
          "colorscale": {
           "diverging": [
            [
             0,
             "#8e0152"
            ],
            [
             0.1,
             "#c51b7d"
            ],
            [
             0.2,
             "#de77ae"
            ],
            [
             0.3,
             "#f1b6da"
            ],
            [
             0.4,
             "#fde0ef"
            ],
            [
             0.5,
             "#f7f7f7"
            ],
            [
             0.6,
             "#e6f5d0"
            ],
            [
             0.7,
             "#b8e186"
            ],
            [
             0.8,
             "#7fbc41"
            ],
            [
             0.9,
             "#4d9221"
            ],
            [
             1,
             "#276419"
            ]
           ],
           "sequential": [
            [
             0,
             "#0d0887"
            ],
            [
             0.1111111111111111,
             "#46039f"
            ],
            [
             0.2222222222222222,
             "#7201a8"
            ],
            [
             0.3333333333333333,
             "#9c179e"
            ],
            [
             0.4444444444444444,
             "#bd3786"
            ],
            [
             0.5555555555555556,
             "#d8576b"
            ],
            [
             0.6666666666666666,
             "#ed7953"
            ],
            [
             0.7777777777777778,
             "#fb9f3a"
            ],
            [
             0.8888888888888888,
             "#fdca26"
            ],
            [
             1,
             "#f0f921"
            ]
           ],
           "sequentialminus": [
            [
             0,
             "#0d0887"
            ],
            [
             0.1111111111111111,
             "#46039f"
            ],
            [
             0.2222222222222222,
             "#7201a8"
            ],
            [
             0.3333333333333333,
             "#9c179e"
            ],
            [
             0.4444444444444444,
             "#bd3786"
            ],
            [
             0.5555555555555556,
             "#d8576b"
            ],
            [
             0.6666666666666666,
             "#ed7953"
            ],
            [
             0.7777777777777778,
             "#fb9f3a"
            ],
            [
             0.8888888888888888,
             "#fdca26"
            ],
            [
             1,
             "#f0f921"
            ]
           ]
          },
          "colorway": [
           "#636efa",
           "#EF553B",
           "#00cc96",
           "#ab63fa",
           "#FFA15A",
           "#19d3f3",
           "#FF6692",
           "#B6E880",
           "#FF97FF",
           "#FECB52"
          ],
          "font": {
           "color": "#f2f5fa"
          },
          "geo": {
           "bgcolor": "rgb(17,17,17)",
           "lakecolor": "rgb(17,17,17)",
           "landcolor": "rgb(17,17,17)",
           "showlakes": true,
           "showland": true,
           "subunitcolor": "#506784"
          },
          "hoverlabel": {
           "align": "left"
          },
          "hovermode": "closest",
          "mapbox": {
           "style": "dark"
          },
          "paper_bgcolor": "rgb(17,17,17)",
          "plot_bgcolor": "rgb(17,17,17)",
          "polar": {
           "angularaxis": {
            "gridcolor": "#506784",
            "linecolor": "#506784",
            "ticks": ""
           },
           "bgcolor": "rgb(17,17,17)",
           "radialaxis": {
            "gridcolor": "#506784",
            "linecolor": "#506784",
            "ticks": ""
           }
          },
          "scene": {
           "xaxis": {
            "backgroundcolor": "rgb(17,17,17)",
            "gridcolor": "#506784",
            "gridwidth": 2,
            "linecolor": "#506784",
            "showbackground": true,
            "ticks": "",
            "zerolinecolor": "#C8D4E3"
           },
           "yaxis": {
            "backgroundcolor": "rgb(17,17,17)",
            "gridcolor": "#506784",
            "gridwidth": 2,
            "linecolor": "#506784",
            "showbackground": true,
            "ticks": "",
            "zerolinecolor": "#C8D4E3"
           },
           "zaxis": {
            "backgroundcolor": "rgb(17,17,17)",
            "gridcolor": "#506784",
            "gridwidth": 2,
            "linecolor": "#506784",
            "showbackground": true,
            "ticks": "",
            "zerolinecolor": "#C8D4E3"
           }
          },
          "shapedefaults": {
           "line": {
            "color": "#f2f5fa"
           }
          },
          "sliderdefaults": {
           "bgcolor": "#C8D4E3",
           "bordercolor": "rgb(17,17,17)",
           "borderwidth": 1,
           "tickwidth": 0
          },
          "ternary": {
           "aaxis": {
            "gridcolor": "#506784",
            "linecolor": "#506784",
            "ticks": ""
           },
           "baxis": {
            "gridcolor": "#506784",
            "linecolor": "#506784",
            "ticks": ""
           },
           "bgcolor": "rgb(17,17,17)",
           "caxis": {
            "gridcolor": "#506784",
            "linecolor": "#506784",
            "ticks": ""
           }
          },
          "title": {
           "x": 0.05
          },
          "updatemenudefaults": {
           "bgcolor": "#506784",
           "borderwidth": 0
          },
          "xaxis": {
           "automargin": true,
           "gridcolor": "#283442",
           "linecolor": "#506784",
           "ticks": "",
           "title": {
            "standoff": 15
           },
           "zerolinecolor": "#283442",
           "zerolinewidth": 2
          },
          "yaxis": {
           "automargin": true,
           "gridcolor": "#283442",
           "linecolor": "#506784",
           "ticks": "",
           "title": {
            "standoff": 15
           },
           "zerolinecolor": "#283442",
           "zerolinewidth": 2
          }
         }
        },
        "title": {
         "font": {
          "color": "#00F1FF"
         },
         "text": "Cost"
        },
        "xaxis": {
         "anchor": "y",
         "color": "#00F1FF",
         "domain": [
          0,
          1
         ],
         "title": {
          "text": "x"
         }
        },
        "yaxis": {
         "anchor": "x",
         "color": "#00F1FF",
         "domain": [
          0,
          1
         ],
         "title": {
          "text": "y"
         }
        }
       }
      }
     },
     "metadata": {},
     "output_type": "display_data"
    }
   ],
   "source": [
    "model = NeuralNetwork(learning_rate=0.0001,activation='relu')\n",
    "\n",
    "model.fit(X_train, y_train,epochs=30000,print_cost=True)"
   ]
  },
  {
   "cell_type": "code",
   "execution_count": 18,
   "id": "9bc5eeed-2cd0-4368-9590-47693863a381",
   "metadata": {},
   "outputs": [],
   "source": [
    "accuracy,predictions = model.predict(X_test, y_test)"
   ]
  },
  {
   "cell_type": "code",
   "execution_count": 19,
   "id": "55e802ae-526e-41f4-90bf-47ba4afbe26e",
   "metadata": {},
   "outputs": [
    {
     "name": "stdout",
     "output_type": "stream",
     "text": [
      "0.6228070175438597\n"
     ]
    }
   ],
   "source": [
    "print(accuracy)"
   ]
  },
  {
   "cell_type": "code",
   "execution_count": null,
   "id": "9712986b-286d-4830-bf27-04dd7e00096c",
   "metadata": {},
   "outputs": [],
   "source": []
  }
 ],
 "metadata": {
  "kernelspec": {
   "display_name": "Python 3 (ipykernel)",
   "language": "python",
   "name": "python3"
  },
  "language_info": {
   "codemirror_mode": {
    "name": "ipython",
    "version": 3
   },
   "file_extension": ".py",
   "mimetype": "text/x-python",
   "name": "python",
   "nbconvert_exporter": "python",
   "pygments_lexer": "ipython3",
   "version": "3.13.3"
  }
 },
 "nbformat": 4,
 "nbformat_minor": 5
}
